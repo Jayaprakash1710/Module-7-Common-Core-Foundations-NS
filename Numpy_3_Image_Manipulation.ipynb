{
  "nbformat": 4,
  "nbformat_minor": 0,
  "metadata": {
    "colab": {
      "provenance": [],
      "authorship_tag": "ABX9TyMqMJwWQiNvPsq4MSpgQJe+",
      "include_colab_link": true
    },
    "kernelspec": {
      "name": "python3",
      "display_name": "Python 3"
    },
    "language_info": {
      "name": "python"
    }
  },
  "cells": [
    {
      "cell_type": "markdown",
      "metadata": {
        "id": "view-in-github",
        "colab_type": "text"
      },
      "source": [
        "<a href=\"https://colab.research.google.com/github/Jayaprakash1710/Module-7-Common-Core-Foundations-NS/blob/main/Numpy_3_Image_Manipulation.ipynb\" target=\"_parent\"><img src=\"https://colab.research.google.com/assets/colab-badge.svg\" alt=\"Open In Colab\"/></a>"
      ]
    },
    {
      "cell_type": "code",
      "execution_count": 7,
      "metadata": {
        "id": "V7zKUXfuVME_"
      },
      "outputs": [],
      "source": [
        "import numpy as np"
      ]
    },
    {
      "cell_type": "markdown",
      "source": [
        "**np.any() np.all()**"
      ],
      "metadata": {
        "id": "y-jNTZzLzMz9"
      }
    },
    {
      "cell_type": "code",
      "source": [
        "a=np.array([1,10,5,9])\n",
        "b=np.array([12,13,43,5])\n",
        "print(a)\n",
        "print(b)"
      ],
      "metadata": {
        "id": "KvvKTwQ9VVT4",
        "colab": {
          "base_uri": "https://localhost:8080/"
        },
        "outputId": "39d37868-4f1c-4d94-ec25-636cb5860a6e"
      },
      "execution_count": 8,
      "outputs": [
        {
          "output_type": "stream",
          "name": "stdout",
          "text": [
            "[ 1 10  5  9]\n",
            "[12 13 43  5]\n"
          ]
        }
      ]
    },
    {
      "cell_type": "code",
      "source": [
        "a<b"
      ],
      "metadata": {
        "colab": {
          "base_uri": "https://localhost:8080/"
        },
        "id": "RvWJevGqeSRW",
        "outputId": "43637e6d-c81e-4452-8d97-f48d8012b4e8"
      },
      "execution_count": 9,
      "outputs": [
        {
          "output_type": "execute_result",
          "data": {
            "text/plain": [
              "array([ True,  True,  True, False])"
            ]
          },
          "metadata": {},
          "execution_count": 9
        }
      ]
    },
    {
      "cell_type": "code",
      "source": [
        "c=np.array([12,13,43,5,6])\n",
        "print(c)"
      ],
      "metadata": {
        "id": "VBGZIchZonxh",
        "outputId": "b29d67d0-725b-46aa-bf6e-bb67cd47c24c",
        "colab": {
          "base_uri": "https://localhost:8080/"
        }
      },
      "execution_count": 10,
      "outputs": [
        {
          "output_type": "stream",
          "name": "stdout",
          "text": [
            "[12 13 43  5  6]\n"
          ]
        }
      ]
    },
    {
      "cell_type": "code",
      "source": [
        "a<c"
      ],
      "metadata": {
        "id": "WLt9y_pso4Ix",
        "outputId": "5000cc1d-a510-4924-ef54-b457a1f4aef7",
        "colab": {
          "base_uri": "https://localhost:8080/",
          "height": 141
        }
      },
      "execution_count": 11,
      "outputs": [
        {
          "output_type": "error",
          "ename": "ValueError",
          "evalue": "operands could not be broadcast together with shapes (4,) (5,) ",
          "traceback": [
            "\u001b[0;31m---------------------------------------------------------------------------\u001b[0m",
            "\u001b[0;31mValueError\u001b[0m                                Traceback (most recent call last)",
            "\u001b[0;32m<ipython-input-11-8e510c037671>\u001b[0m in \u001b[0;36m<cell line: 0>\u001b[0;34m()\u001b[0m\n\u001b[0;32m----> 1\u001b[0;31m \u001b[0ma\u001b[0m\u001b[0;34m<\u001b[0m\u001b[0mc\u001b[0m\u001b[0;34m\u001b[0m\u001b[0;34m\u001b[0m\u001b[0m\n\u001b[0m",
            "\u001b[0;31mValueError\u001b[0m: operands could not be broadcast together with shapes (4,) (5,) "
          ]
        }
      ]
    },
    {
      "cell_type": "code",
      "source": [
        "np.any(a<b)"
      ],
      "metadata": {
        "id": "Pvp0E_2zo5-B",
        "outputId": "887836f3-a7f8-4b53-f170-6782028f21ab",
        "colab": {
          "base_uri": "https://localhost:8080/"
        }
      },
      "execution_count": 13,
      "outputs": [
        {
          "output_type": "execute_result",
          "data": {
            "text/plain": [
              "True"
            ]
          },
          "metadata": {},
          "execution_count": 13
        }
      ]
    },
    {
      "cell_type": "code",
      "source": [
        "np.all(a<b)"
      ],
      "metadata": {
        "id": "musc_Lhmxg1f",
        "outputId": "1e1d0507-371a-4d18-8025-7e09083637b7",
        "colab": {
          "base_uri": "https://localhost:8080/"
        }
      },
      "execution_count": 14,
      "outputs": [
        {
          "output_type": "execute_result",
          "data": {
            "text/plain": [
              "False"
            ]
          },
          "metadata": {},
          "execution_count": 14
        }
      ]
    },
    {
      "cell_type": "code",
      "source": [
        "a=np.array([1,2,3,2])\n",
        "b=np.array([2,2,3,2])\n",
        "c=np.array([6,4,4,5])"
      ],
      "metadata": {
        "id": "QOYCx_IWzFx-"
      },
      "execution_count": 15,
      "outputs": []
    },
    {
      "cell_type": "code",
      "source": [
        "a<=b"
      ],
      "metadata": {
        "id": "tp-DcVWCz05u",
        "outputId": "0c425e59-c64e-4510-df77-1b39d5e08424",
        "colab": {
          "base_uri": "https://localhost:8080/"
        }
      },
      "execution_count": 16,
      "outputs": [
        {
          "output_type": "execute_result",
          "data": {
            "text/plain": [
              "array([ True,  True,  True,  True])"
            ]
          },
          "metadata": {},
          "execution_count": 16
        }
      ]
    },
    {
      "cell_type": "code",
      "source": [
        "b<=c"
      ],
      "metadata": {
        "id": "D3LV_RkVz5re",
        "outputId": "0ddef505-7d89-492e-a770-576f41550529",
        "colab": {
          "base_uri": "https://localhost:8080/"
        }
      },
      "execution_count": 17,
      "outputs": [
        {
          "output_type": "execute_result",
          "data": {
            "text/plain": [
              "array([ True,  True,  True,  True])"
            ]
          },
          "metadata": {},
          "execution_count": 17
        }
      ]
    },
    {
      "cell_type": "code",
      "source": [
        "np.all((a<=b) & (b<=c))"
      ],
      "metadata": {
        "id": "9SjP8cKaz9Qu",
        "outputId": "b1cc7526-32a1-420a-947e-b34076a614b9",
        "colab": {
          "base_uri": "https://localhost:8080/"
        }
      },
      "execution_count": 18,
      "outputs": [
        {
          "output_type": "execute_result",
          "data": {
            "text/plain": [
              "True"
            ]
          },
          "metadata": {},
          "execution_count": 18
        }
      ]
    },
    {
      "cell_type": "markdown",
      "source": [
        "**argsort:**"
      ],
      "metadata": {
        "id": "fr5uP3BI0sSc"
      }
    },
    {
      "cell_type": "code",
      "source": [
        "a=np.array([10,9,5,11,3,6,1])\n",
        "print(a)"
      ],
      "metadata": {
        "id": "prbKoaYC0PY-",
        "outputId": "ad56fc3c-d91b-4b93-95d5-c7ece30280ca",
        "colab": {
          "base_uri": "https://localhost:8080/"
        }
      },
      "execution_count": 19,
      "outputs": [
        {
          "output_type": "stream",
          "name": "stdout",
          "text": [
            "[10  9  5 11  3  6  1]\n"
          ]
        }
      ]
    },
    {
      "cell_type": "code",
      "source": [
        "np.sort(a)"
      ],
      "metadata": {
        "id": "2Mi89tjC08tN",
        "outputId": "8c7d2aa1-d8c8-4193-9167-c4632c6a0c67",
        "colab": {
          "base_uri": "https://localhost:8080/"
        }
      },
      "execution_count": 20,
      "outputs": [
        {
          "output_type": "execute_result",
          "data": {
            "text/plain": [
              "array([ 1,  3,  5,  6,  9, 10, 11])"
            ]
          },
          "metadata": {},
          "execution_count": 20
        }
      ]
    },
    {
      "cell_type": "code",
      "source": [
        "np.argmax(a)"
      ],
      "metadata": {
        "id": "ITZYXbd30-Hu",
        "outputId": "b13329d2-7e3f-424c-f8c6-429e6af18096",
        "colab": {
          "base_uri": "https://localhost:8080/"
        }
      },
      "execution_count": 21,
      "outputs": [
        {
          "output_type": "execute_result",
          "data": {
            "text/plain": [
              "3"
            ]
          },
          "metadata": {},
          "execution_count": 21
        }
      ]
    },
    {
      "cell_type": "code",
      "source": [
        "np.argmin(a)"
      ],
      "metadata": {
        "id": "oeqdjYAf1RX9",
        "outputId": "65a7441d-e04d-4a36-e831-44f528c589f4",
        "colab": {
          "base_uri": "https://localhost:8080/"
        }
      },
      "execution_count": 22,
      "outputs": [
        {
          "output_type": "execute_result",
          "data": {
            "text/plain": [
              "6"
            ]
          },
          "metadata": {},
          "execution_count": 22
        }
      ]
    },
    {
      "cell_type": "code",
      "source": [
        "np.argsort(a)"
      ],
      "metadata": {
        "id": "rZbCSByz1Usf",
        "outputId": "c3f2632f-22d9-459f-fe94-345b64a9c38c",
        "colab": {
          "base_uri": "https://localhost:8080/"
        }
      },
      "execution_count": 23,
      "outputs": [
        {
          "output_type": "execute_result",
          "data": {
            "text/plain": [
              "array([6, 4, 2, 5, 1, 0, 3])"
            ]
          },
          "metadata": {},
          "execution_count": 23
        }
      ]
    },
    {
      "cell_type": "markdown",
      "source": [
        "**Fitbit:**"
      ],
      "metadata": {
        "id": "ylYblrS14AAL"
      }
    },
    {
      "cell_type": "code",
      "source": [
        "data=np.loadtxt(\"/content/fit.txt\",dtype='str')"
      ],
      "metadata": {
        "id": "IibvNHvJ1emd"
      },
      "execution_count": 25,
      "outputs": []
    },
    {
      "cell_type": "code",
      "source": [
        "data"
      ],
      "metadata": {
        "id": "bjmaeHQI4MA9",
        "outputId": "b0eef374-9355-4bd5-8da6-ecd14e0b08cd",
        "colab": {
          "base_uri": "https://localhost:8080/"
        }
      },
      "execution_count": 26,
      "outputs": [
        {
          "output_type": "execute_result",
          "data": {
            "text/plain": [
              "array([['06-10-2017', '5464', 'Neutral', '181', '5', 'Inactive'],\n",
              "       ['07-10-2017', '6041', 'Sad', '197', '8', 'Inactive'],\n",
              "       ['08-10-2017', '25', 'Sad', '0', '5', 'Inactive'],\n",
              "       ['09-10-2017', '5461', 'Sad', '174', '4', 'Inactive'],\n",
              "       ['10-10-2017', '6915', 'Neutral', '223', '5', 'Active'],\n",
              "       ['11-10-2017', '4545', 'Sad', '149', '6', 'Inactive'],\n",
              "       ['12-10-2017', '4340', 'Sad', '140', '6', 'Inactive'],\n",
              "       ['13-10-2017', '1230', 'Sad', '38', '7', 'Inactive'],\n",
              "       ['14-10-2017', '61', 'Sad', '1', '5', 'Inactive'],\n",
              "       ['15-10-2017', '1258', 'Sad', '40', '6', 'Inactive'],\n",
              "       ['16-10-2017', '3148', 'Sad', '101', '8', 'Inactive'],\n",
              "       ['17-10-2017', '4687', 'Sad', '152', '5', 'Inactive'],\n",
              "       ['18-10-2017', '4732', 'Happy', '150', '6', 'Active'],\n",
              "       ['19-10-2017', '3519', 'Sad', '113', '7', 'Inactive'],\n",
              "       ['20-10-2017', '1580', 'Sad', '49', '5', 'Inactive'],\n",
              "       ['21-10-2017', '2822', 'Sad', '86', '6', 'Inactive'],\n",
              "       ['22-10-2017', '181', 'Sad', '6', '8', 'Inactive'],\n",
              "       ['23-10-2017', '3158', 'Neutral', '99', '5', 'Inactive'],\n",
              "       ['24-10-2017', '4383', 'Neutral', '143', '4', 'Inactive'],\n",
              "       ['25-10-2017', '3881', 'Neutral', '125', '5', 'Inactive'],\n",
              "       ['26-10-2017', '4037', 'Neutral', '129', '6', 'Inactive'],\n",
              "       ['27-10-2017', '202', 'Neutral', '6', '8', 'Inactive'],\n",
              "       ['28-10-2017', '292', 'Neutral', '9', '5', 'Inactive'],\n",
              "       ['29-10-2017', '330', 'Happy', '10', '6', 'Inactive'],\n",
              "       ['30-10-2017', '2209', 'Neutral', '72', '5', 'Inactive'],\n",
              "       ['31-10-2017', '4550', 'Happy', '150', '8', 'Active'],\n",
              "       ['01-11-2017', '4435', 'Happy', '141', '5', 'Inactive'],\n",
              "       ['02-11-2017', '4779', 'Happy', '156', '4', 'Inactive'],\n",
              "       ['03-11-2017', '1831', 'Happy', '57', '5', 'Inactive'],\n",
              "       ['04-11-2017', '2255', 'Happy', '72', '4', 'Inactive'],\n",
              "       ['05-11-2017', '539', 'Happy', '17', '5', 'Active'],\n",
              "       ['06-11-2017', '5464', 'Happy', '181', '4', 'Inactive'],\n",
              "       ['07-11-2017', '6041', 'Neutral', '197', '3', 'Inactive'],\n",
              "       ['08-11-2017', '4068', 'Happy', '131', '2', 'Inactive'],\n",
              "       ['09-11-2017', '4683', 'Happy', '154', '9', 'Inactive'],\n",
              "       ['10-11-2017', '4033', 'Happy', '137', '5', 'Inactive'],\n",
              "       ['11-11-2017', '6314', 'Happy', '193', '6', 'Active'],\n",
              "       ['12-11-2017', '614', 'Happy', '19', '4', 'Active'],\n",
              "       ['13-11-2017', '3149', 'Happy', '101', '5', 'Active'],\n",
              "       ['14-11-2017', '4005', 'Happy', '139', '8', 'Active'],\n",
              "       ['15-11-2017', '4880', 'Happy', '164', '4', 'Active'],\n",
              "       ['16-11-2017', '4136', 'Happy', '137', '5', 'Active'],\n",
              "       ['17-11-2017', '705', 'Happy', '22', '6', 'Active'],\n",
              "       ['18-11-2017', '570', 'Neutral', '17', '5', 'Active'],\n",
              "       ['19-11-2017', '269', 'Happy', '9', '6', 'Active'],\n",
              "       ['20-11-2017', '4275', 'Happy', '145', '5', 'Inactive'],\n",
              "       ['21-11-2017', '5999', 'Happy', '192', '6', 'Inactive'],\n",
              "       ['22-11-2017', '4421', 'Happy', '146', '5', 'Inactive'],\n",
              "       ['23-11-2017', '6930', 'Happy', '234', '6', 'Inactive'],\n",
              "       ['24-11-2017', '5195', 'Happy', '167', '5', 'Inactive'],\n",
              "       ['25-11-2017', '546', 'Happy', '16', '6', 'Inactive'],\n",
              "       ['26-11-2017', '493', 'Happy', '17', '7', 'Active'],\n",
              "       ['27-11-2017', '995', 'Happy', '32', '6', 'Active'],\n",
              "       ['28-11-2017', '1163', 'Neutral', '35', '7', 'Active'],\n",
              "       ['29-11-2017', '6676', 'Sad', '220', '6', 'Active'],\n",
              "       ['30-11-2017', '3608', 'Happy', '116', '5', 'Active'],\n",
              "       ['01-12-2017', '774', 'Happy', '23', '6', 'Active'],\n",
              "       ['02-12-2017', '1421', 'Happy', '44', '7', 'Active'],\n",
              "       ['03-12-2017', '4064', 'Happy', '131', '8', 'Active'],\n",
              "       ['04-12-2017', '2725', 'Happy', '86', '8', 'Active'],\n",
              "       ['05-12-2017', '5934', 'Happy', '194', '7', 'Active'],\n",
              "       ['06-12-2017', '1867', 'Happy', '60', '8', 'Active'],\n",
              "       ['07-12-2017', '3721', 'Sad', '121', '5', 'Active'],\n",
              "       ['08-12-2017', '2374', 'Neutral', '76', '4', 'Inactive'],\n",
              "       ['09-12-2017', '2909', 'Neutral', '93', '3', 'Active'],\n",
              "       ['10-12-2017', '1648', 'Sad', '53', '3', 'Active'],\n",
              "       ['11-12-2017', '799', 'Sad', '25', '4', 'Inactive'],\n",
              "       ['12-12-2017', '7102', 'Neutral', '227', '5', 'Active'],\n",
              "       ['13-12-2017', '3941', 'Neutral', '125', '5', 'Active'],\n",
              "       ['14-12-2017', '7422', 'Happy', '243', '5', 'Active'],\n",
              "       ['15-12-2017', '437', 'Neutral', '14', '3', 'Active'],\n",
              "       ['16-12-2017', '1231', 'Neutral', '39', '4', 'Active'],\n",
              "       ['17-12-2017', '1696', 'Sad', '55', '4', 'Inactive'],\n",
              "       ['18-12-2017', '4921', 'Neutral', '158', '5', 'Active'],\n",
              "       ['19-12-2017', '221', 'Sad', '7', '5', 'Active'],\n",
              "       ['20-12-2017', '6500', 'Neutral', '213', '5', 'Active'],\n",
              "       ['21-12-2017', '3575', 'Neutral', '116', '5', 'Active'],\n",
              "       ['22-12-2017', '4061', 'Sad', '129', '5', 'Inactive'],\n",
              "       ['23-12-2017', '651', 'Sad', '21', '5', 'Inactive'],\n",
              "       ['24-12-2017', '753', 'Sad', '28', '4', 'Inactive'],\n",
              "       ['25-12-2017', '518', 'Sad', '16', '3', 'Inactive'],\n",
              "       ['26-12-2017', '5537', 'Happy', '180', '4', 'Active'],\n",
              "       ['27-12-2017', '4108', 'Neutral', '138', '5', 'Active'],\n",
              "       ['28-12-2017', '5376', 'Happy', '176', '5', 'Active'],\n",
              "       ['29-12-2017', '3066', 'Neutral', '99', '4', 'Active'],\n",
              "       ['30-12-2017', '177', 'Sad', '5', '5', 'Inactive'],\n",
              "       ['31-12-2017', '36', 'Sad', '1', '3', 'Inactive'],\n",
              "       ['01-01-2018', '299', 'Sad', '10', '3', 'Inactive'],\n",
              "       ['02-01-2018', '1447', 'Neutral', '47', '3', 'Inactive'],\n",
              "       ['03-01-2018', '2599', 'Neutral', '84', '2', 'Inactive'],\n",
              "       ['04-01-2018', '702', 'Sad', '23', '3', 'Inactive'],\n",
              "       ['05-01-2018', '133', 'Sad', '4', '2', 'Inactive'],\n",
              "       ['06-01-2018', '153', 'Happy', '0', '8', 'Inactive'],\n",
              "       ['07-01-2018', '500', 'Neutral', '0', '5', 'Active'],\n",
              "       ['08-01-2018', '2127', 'Neutral', '0', '5', 'Inactive'],\n",
              "       ['09-01-2018', '2203', 'Happy', '0', '5', 'Active']], dtype='<U10')"
            ]
          },
          "metadata": {},
          "execution_count": 26
        }
      ]
    },
    {
      "cell_type": "code",
      "source": [
        "data.shape"
      ],
      "metadata": {
        "id": "RCewUWby4Zd8",
        "outputId": "323bc313-f1db-43ea-896d-64b0f7739754",
        "colab": {
          "base_uri": "https://localhost:8080/"
        }
      },
      "execution_count": 27,
      "outputs": [
        {
          "output_type": "execute_result",
          "data": {
            "text/plain": [
              "(96, 6)"
            ]
          },
          "metadata": {},
          "execution_count": 27
        }
      ]
    },
    {
      "cell_type": "code",
      "source": [
        "date,steps_count,mood,calories_burnt,hours_slept,activity=data.T"
      ],
      "metadata": {
        "id": "N-WFwFH35AWc"
      },
      "execution_count": 32,
      "outputs": []
    },
    {
      "cell_type": "code",
      "source": [
        "date"
      ],
      "metadata": {
        "id": "oBV1XmEr5OfM",
        "outputId": "f37b4686-7c54-43df-e79e-ae174b672b8b",
        "colab": {
          "base_uri": "https://localhost:8080/"
        }
      },
      "execution_count": 33,
      "outputs": [
        {
          "output_type": "execute_result",
          "data": {
            "text/plain": [
              "array(['06-10-2017', '07-10-2017', '08-10-2017', '09-10-2017',\n",
              "       '10-10-2017', '11-10-2017', '12-10-2017', '13-10-2017',\n",
              "       '14-10-2017', '15-10-2017', '16-10-2017', '17-10-2017',\n",
              "       '18-10-2017', '19-10-2017', '20-10-2017', '21-10-2017',\n",
              "       '22-10-2017', '23-10-2017', '24-10-2017', '25-10-2017',\n",
              "       '26-10-2017', '27-10-2017', '28-10-2017', '29-10-2017',\n",
              "       '30-10-2017', '31-10-2017', '01-11-2017', '02-11-2017',\n",
              "       '03-11-2017', '04-11-2017', '05-11-2017', '06-11-2017',\n",
              "       '07-11-2017', '08-11-2017', '09-11-2017', '10-11-2017',\n",
              "       '11-11-2017', '12-11-2017', '13-11-2017', '14-11-2017',\n",
              "       '15-11-2017', '16-11-2017', '17-11-2017', '18-11-2017',\n",
              "       '19-11-2017', '20-11-2017', '21-11-2017', '22-11-2017',\n",
              "       '23-11-2017', '24-11-2017', '25-11-2017', '26-11-2017',\n",
              "       '27-11-2017', '28-11-2017', '29-11-2017', '30-11-2017',\n",
              "       '01-12-2017', '02-12-2017', '03-12-2017', '04-12-2017',\n",
              "       '05-12-2017', '06-12-2017', '07-12-2017', '08-12-2017',\n",
              "       '09-12-2017', '10-12-2017', '11-12-2017', '12-12-2017',\n",
              "       '13-12-2017', '14-12-2017', '15-12-2017', '16-12-2017',\n",
              "       '17-12-2017', '18-12-2017', '19-12-2017', '20-12-2017',\n",
              "       '21-12-2017', '22-12-2017', '23-12-2017', '24-12-2017',\n",
              "       '25-12-2017', '26-12-2017', '27-12-2017', '28-12-2017',\n",
              "       '29-12-2017', '30-12-2017', '31-12-2017', '01-01-2018',\n",
              "       '02-01-2018', '03-01-2018', '04-01-2018', '05-01-2018',\n",
              "       '06-01-2018', '07-01-2018', '08-01-2018', '09-01-2018'],\n",
              "      dtype='<U10')"
            ]
          },
          "metadata": {},
          "execution_count": 33
        }
      ]
    },
    {
      "cell_type": "code",
      "source": [
        "steps_count=np.array(steps_count,dtype='int')\n",
        "calories_burnt=np.array(calories_burnt,dtype='int')\n",
        "hours_slept=np.array(hours_slept,dtype='int')"
      ],
      "metadata": {
        "id": "_Pnued4Y7K3c"
      },
      "execution_count": 34,
      "outputs": []
    },
    {
      "cell_type": "markdown",
      "source": [
        "**Mood:**"
      ],
      "metadata": {
        "id": "izIP41OhAVeo"
      }
    },
    {
      "cell_type": "code",
      "source": [
        "np.unique(mood)"
      ],
      "metadata": {
        "id": "ljvskYRL_Oar",
        "outputId": "813c846c-58e3-4b5f-de03-9551d756a8da",
        "colab": {
          "base_uri": "https://localhost:8080/"
        }
      },
      "execution_count": 35,
      "outputs": [
        {
          "output_type": "execute_result",
          "data": {
            "text/plain": [
              "array(['Happy', 'Neutral', 'Sad'], dtype='<U10')"
            ]
          },
          "metadata": {},
          "execution_count": 35
        }
      ]
    },
    {
      "cell_type": "code",
      "source": [
        "np.unique(mood,return_counts=True)"
      ],
      "metadata": {
        "id": "OuIA7LJV_m6L",
        "outputId": "59bae820-5700-4ac8-dd9f-65b6abd913ec",
        "colab": {
          "base_uri": "https://localhost:8080/"
        }
      },
      "execution_count": 36,
      "outputs": [
        {
          "output_type": "execute_result",
          "data": {
            "text/plain": [
              "(array(['Happy', 'Neutral', 'Sad'], dtype='<U10'), array([40, 27, 29]))"
            ]
          },
          "metadata": {},
          "execution_count": 36
        }
      ]
    },
    {
      "cell_type": "markdown",
      "source": [
        "**Steps ount:**"
      ],
      "metadata": {
        "id": "DLZcwumuAX2A"
      }
    },
    {
      "cell_type": "code",
      "source": [
        "np.mean(steps_count)"
      ],
      "metadata": {
        "id": "MCQpXz0J_tHr",
        "outputId": "7deed826-116e-43c9-be42-81684e72f3f7",
        "colab": {
          "base_uri": "https://localhost:8080/"
        }
      },
      "execution_count": 37,
      "outputs": [
        {
          "output_type": "execute_result",
          "data": {
            "text/plain": [
              "2935.9375"
            ]
          },
          "metadata": {},
          "execution_count": 37
        }
      ]
    },
    {
      "cell_type": "code",
      "source": [
        "np.max(steps_count)"
      ],
      "metadata": {
        "id": "kMW8SnjuAf1K",
        "outputId": "0baf5b0b-9eec-4cf6-9bc3-6db7b05cf4ba",
        "colab": {
          "base_uri": "https://localhost:8080/"
        }
      },
      "execution_count": 38,
      "outputs": [
        {
          "output_type": "execute_result",
          "data": {
            "text/plain": [
              "7422"
            ]
          },
          "metadata": {},
          "execution_count": 38
        }
      ]
    },
    {
      "cell_type": "code",
      "source": [
        "np.min(steps_count)"
      ],
      "metadata": {
        "id": "j2pojMlAAiHq",
        "outputId": "b23953ed-7865-4956-d5aa-8f774b7253a1",
        "colab": {
          "base_uri": "https://localhost:8080/"
        }
      },
      "execution_count": 39,
      "outputs": [
        {
          "output_type": "execute_result",
          "data": {
            "text/plain": [
              "25"
            ]
          },
          "metadata": {},
          "execution_count": 39
        }
      ]
    },
    {
      "cell_type": "code",
      "source": [
        "np.argmax(steps_count)"
      ],
      "metadata": {
        "id": "Uo1dMYoyAlPa",
        "outputId": "89526ff9-b8e6-4094-c8fb-a038203e3c64",
        "colab": {
          "base_uri": "https://localhost:8080/"
        }
      },
      "execution_count": 40,
      "outputs": [
        {
          "output_type": "execute_result",
          "data": {
            "text/plain": [
              "69"
            ]
          },
          "metadata": {},
          "execution_count": 40
        }
      ]
    },
    {
      "cell_type": "code",
      "source": [
        "date[np.argmax(steps_count)]"
      ],
      "metadata": {
        "id": "6JbQIjymBzQ6",
        "outputId": "d31bd760-6bcc-4d67-cab6-94a86b782bb9",
        "colab": {
          "base_uri": "https://localhost:8080/",
          "height": 36
        }
      },
      "execution_count": 41,
      "outputs": [
        {
          "output_type": "execute_result",
          "data": {
            "text/plain": [
              "'14-12-2017'"
            ],
            "application/vnd.google.colaboratory.intrinsic+json": {
              "type": "string"
            }
          },
          "metadata": {},
          "execution_count": 41
        }
      ]
    },
    {
      "cell_type": "code",
      "source": [
        "date[np.argmin(steps_count)]"
      ],
      "metadata": {
        "id": "9bbscbL8B3AM",
        "outputId": "db9f608c-d615-4e77-ed0e-f0a1d3de26ec",
        "colab": {
          "base_uri": "https://localhost:8080/",
          "height": 36
        }
      },
      "execution_count": 42,
      "outputs": [
        {
          "output_type": "execute_result",
          "data": {
            "text/plain": [
              "'08-10-2017'"
            ],
            "application/vnd.google.colaboratory.intrinsic+json": {
              "type": "string"
            }
          },
          "metadata": {},
          "execution_count": 42
        }
      ]
    },
    {
      "cell_type": "code",
      "source": [
        "calories_burnt[np.argmin(steps_count)]"
      ],
      "metadata": {
        "id": "9gFQkXkEB_K6",
        "outputId": "2c984dd9-a2dc-485c-8805-4495709fa9a3",
        "colab": {
          "base_uri": "https://localhost:8080/"
        }
      },
      "execution_count": 43,
      "outputs": [
        {
          "output_type": "execute_result",
          "data": {
            "text/plain": [
              "0"
            ]
          },
          "metadata": {},
          "execution_count": 43
        }
      ]
    },
    {
      "cell_type": "code",
      "source": [
        "calories_burnt[np.argmax(steps_count)]"
      ],
      "metadata": {
        "id": "aYpZQlarCY0K",
        "outputId": "7560089c-2ab7-4cc8-afc0-b50b51e1352c",
        "colab": {
          "base_uri": "https://localhost:8080/"
        }
      },
      "execution_count": 44,
      "outputs": [
        {
          "output_type": "execute_result",
          "data": {
            "text/plain": [
              "243"
            ]
          },
          "metadata": {},
          "execution_count": 44
        }
      ]
    },
    {
      "cell_type": "code",
      "source": [
        "mood[np.argmax(steps_count)]"
      ],
      "metadata": {
        "id": "yD0t-b5VCjZ6",
        "outputId": "709ac723-5a8c-4530-d32d-bf5c9fb8f47c",
        "colab": {
          "base_uri": "https://localhost:8080/",
          "height": 36
        }
      },
      "execution_count": 45,
      "outputs": [
        {
          "output_type": "execute_result",
          "data": {
            "text/plain": [
              "'Happy'"
            ],
            "application/vnd.google.colaboratory.intrinsic+json": {
              "type": "string"
            }
          },
          "metadata": {},
          "execution_count": 45
        }
      ]
    },
    {
      "cell_type": "code",
      "source": [
        "mood[np.argmin(steps_count)]"
      ],
      "metadata": {
        "id": "yNI5SneRCsLr",
        "outputId": "093ea11f-a42a-48c0-8535-753d0b846f8d",
        "colab": {
          "base_uri": "https://localhost:8080/",
          "height": 36
        }
      },
      "execution_count": 46,
      "outputs": [
        {
          "output_type": "execute_result",
          "data": {
            "text/plain": [
              "'Sad'"
            ],
            "application/vnd.google.colaboratory.intrinsic+json": {
              "type": "string"
            }
          },
          "metadata": {},
          "execution_count": 46
        }
      ]
    },
    {
      "cell_type": "markdown",
      "source": [
        "Mean value of step counts when mood is 'sad'"
      ],
      "metadata": {
        "id": "jupyt3ABC53G"
      }
    },
    {
      "cell_type": "code",
      "source": [
        "np.mean(steps_count[mood=='Sad'])"
      ],
      "metadata": {
        "id": "taBamMRGCvaK",
        "outputId": "164358a0-045d-4bc5-dc25-f2ffdea1b634",
        "colab": {
          "base_uri": "https://localhost:8080/"
        }
      },
      "execution_count": 50,
      "outputs": [
        {
          "output_type": "execute_result",
          "data": {
            "text/plain": [
              "2103.0689655172414"
            ]
          },
          "metadata": {},
          "execution_count": 50
        }
      ]
    },
    {
      "cell_type": "code",
      "source": [
        "np.mean(steps_count[mood=='Happy'])"
      ],
      "metadata": {
        "id": "M8bm7pLXDCdq",
        "outputId": "5efe8eea-9f29-4e7c-f970-83b1f0d39925",
        "colab": {
          "base_uri": "https://localhost:8080/"
        }
      },
      "execution_count": 51,
      "outputs": [
        {
          "output_type": "execute_result",
          "data": {
            "text/plain": [
              "3392.725"
            ]
          },
          "metadata": {},
          "execution_count": 51
        }
      ]
    },
    {
      "cell_type": "code",
      "source": [
        "np.mean(steps_count[mood=='Neutral'])"
      ],
      "metadata": {
        "id": "A2is8UHUDUOZ",
        "outputId": "ceac8bbf-eea4-4784-f3d6-b6923cc78792",
        "colab": {
          "base_uri": "https://localhost:8080/"
        }
      },
      "execution_count": 53,
      "outputs": [
        {
          "output_type": "execute_result",
          "data": {
            "text/plain": [
              "3153.777777777778"
            ]
          },
          "metadata": {},
          "execution_count": 53
        }
      ]
    },
    {
      "cell_type": "markdown",
      "source": [
        "**Mood with respect to steps:**"
      ],
      "metadata": {
        "id": "4GEl9RXDE7uX"
      }
    },
    {
      "cell_type": "code",
      "source": [
        "np.unique(mood[steps_count>4000],return_counts=True)"
      ],
      "metadata": {
        "id": "SEc8FKOUDsG6",
        "outputId": "b398d07f-2c20-4342-fb5c-57bd237c8d6c",
        "colab": {
          "base_uri": "https://localhost:8080/"
        }
      },
      "execution_count": 58,
      "outputs": [
        {
          "output_type": "execute_result",
          "data": {
            "text/plain": [
              "(array(['Happy', 'Neutral', 'Sad'], dtype='<U10'), array([22,  9,  7]))"
            ]
          },
          "metadata": {},
          "execution_count": 58
        }
      ]
    },
    {
      "cell_type": "code",
      "source": [
        "np.unique(mood[steps_count<2000],return_counts=True)"
      ],
      "metadata": {
        "id": "BzRE1OvIEWfK",
        "outputId": "d9dabbbf-e696-4678-da68-a7869e79a36a",
        "colab": {
          "base_uri": "https://localhost:8080/"
        }
      },
      "execution_count": 59,
      "outputs": [
        {
          "output_type": "execute_result",
          "data": {
            "text/plain": [
              "(array(['Happy', 'Neutral', 'Sad'], dtype='<U10'), array([13,  8, 18]))"
            ]
          },
          "metadata": {},
          "execution_count": 59
        }
      ]
    },
    {
      "cell_type": "markdown",
      "source": [
        "**Mood with respect to sleep:**"
      ],
      "metadata": {
        "id": "5cKiMTdpFOkP"
      }
    },
    {
      "cell_type": "code",
      "source": [
        "np.unique(mood[hours_slept<4],return_counts=True)"
      ],
      "metadata": {
        "id": "E2hbtVzHFCap",
        "outputId": "eb673a43-ab3b-446d-f5e0-6c5fb3ac5460",
        "colab": {
          "base_uri": "https://localhost:8080/"
        }
      },
      "execution_count": 63,
      "outputs": [
        {
          "output_type": "execute_result",
          "data": {
            "text/plain": [
              "(array(['Happy', 'Neutral', 'Sad'], dtype='<U10'), array([1, 5, 6]))"
            ]
          },
          "metadata": {},
          "execution_count": 63
        }
      ]
    },
    {
      "cell_type": "code",
      "source": [
        "np.unique(mood[hours_slept<5],return_counts=True)"
      ],
      "metadata": {
        "id": "t4ghgp1lFaiJ",
        "outputId": "cddf60d7-9f57-4129-d4fd-f1b48de71df1",
        "colab": {
          "base_uri": "https://localhost:8080/"
        }
      },
      "execution_count": 64,
      "outputs": [
        {
          "output_type": "execute_result",
          "data": {
            "text/plain": [
              "(array(['Happy', 'Neutral', 'Sad'], dtype='<U10'), array([ 7,  9, 10]))"
            ]
          },
          "metadata": {},
          "execution_count": 64
        }
      ]
    },
    {
      "cell_type": "code",
      "source": [
        "np.unique(mood[hours_slept>=5],return_counts=True)"
      ],
      "metadata": {
        "id": "gE8ckznxGKJm",
        "outputId": "a09a9fe9-9cc5-4921-94da-80b62a571736",
        "colab": {
          "base_uri": "https://localhost:8080/"
        }
      },
      "execution_count": 69,
      "outputs": [
        {
          "output_type": "execute_result",
          "data": {
            "text/plain": [
              "(array(['Happy', 'Neutral', 'Sad'], dtype='<U10'), array([33, 18, 19]))"
            ]
          },
          "metadata": {},
          "execution_count": 69
        }
      ]
    },
    {
      "cell_type": "code",
      "source": [
        "np.unique(mood[hours_slept<=6],return_counts=True)"
      ],
      "metadata": {
        "id": "KuZGku8XFoS6",
        "outputId": "fdafea74-8aa9-4e18-de90-30807091c81e",
        "colab": {
          "base_uri": "https://localhost:8080/"
        }
      },
      "execution_count": 67,
      "outputs": [
        {
          "output_type": "execute_result",
          "data": {
            "text/plain": [
              "(array(['Happy', 'Neutral', 'Sad'], dtype='<U10'), array([30, 25, 24]))"
            ]
          },
          "metadata": {},
          "execution_count": 67
        }
      ]
    },
    {
      "cell_type": "code",
      "source": [
        "np.unique(mood[hours_slept>=6],return_counts=True)"
      ],
      "metadata": {
        "id": "uL8FSpDkFsCp",
        "outputId": "2ca4706e-be98-4704-eed3-03922bcaf399",
        "colab": {
          "base_uri": "https://localhost:8080/"
        }
      },
      "execution_count": 68,
      "outputs": [
        {
          "output_type": "execute_result",
          "data": {
            "text/plain": [
              "(array(['Happy', 'Neutral', 'Sad'], dtype='<U10'), array([20,  3, 10]))"
            ]
          },
          "metadata": {},
          "execution_count": 68
        }
      ]
    },
    {
      "cell_type": "code",
      "source": [],
      "metadata": {
        "id": "r7G1ejDeF6oq"
      },
      "execution_count": null,
      "outputs": []
    },
    {
      "cell_type": "markdown",
      "source": [
        "**3D-array:**"
      ],
      "metadata": {
        "id": "X64i48usQnYd"
      }
    },
    {
      "cell_type": "code",
      "source": [
        "a=np.arange(24).reshape(2,3,4)\n",
        "print(a)"
      ],
      "metadata": {
        "id": "uoxu4BHkQr1m",
        "outputId": "fb7194c4-2cbf-417c-c11b-0ec0b2fee9af",
        "colab": {
          "base_uri": "https://localhost:8080/"
        }
      },
      "execution_count": 70,
      "outputs": [
        {
          "output_type": "stream",
          "name": "stdout",
          "text": [
            "[[[ 0  1  2  3]\n",
            "  [ 4  5  6  7]\n",
            "  [ 8  9 10 11]]\n",
            "\n",
            " [[12 13 14 15]\n",
            "  [16 17 18 19]\n",
            "  [20 21 22 23]]]\n"
          ]
        }
      ]
    },
    {
      "cell_type": "code",
      "source": [
        "a.size"
      ],
      "metadata": {
        "id": "L4x9Kb7nQyh3",
        "outputId": "c7ec2c21-2ca2-426e-c53b-d1ae7a4a33ba",
        "colab": {
          "base_uri": "https://localhost:8080/"
        }
      },
      "execution_count": 71,
      "outputs": [
        {
          "output_type": "execute_result",
          "data": {
            "text/plain": [
              "24"
            ]
          },
          "metadata": {},
          "execution_count": 71
        }
      ]
    },
    {
      "cell_type": "code",
      "source": [
        "a.ndim"
      ],
      "metadata": {
        "id": "L6STzOFVUqjV",
        "outputId": "5d3ccaad-79b3-46da-92d2-31664b8feb96",
        "colab": {
          "base_uri": "https://localhost:8080/"
        }
      },
      "execution_count": 72,
      "outputs": [
        {
          "output_type": "execute_result",
          "data": {
            "text/plain": [
              "3"
            ]
          },
          "metadata": {},
          "execution_count": 72
        }
      ]
    },
    {
      "cell_type": "code",
      "source": [
        "a.shape"
      ],
      "metadata": {
        "id": "RGI_-r1AUsYl",
        "outputId": "b307bc04-3c52-44c5-d60d-90ab79bc91c1",
        "colab": {
          "base_uri": "https://localhost:8080/"
        }
      },
      "execution_count": 73,
      "outputs": [
        {
          "output_type": "execute_result",
          "data": {
            "text/plain": [
              "(2, 3, 4)"
            ]
          },
          "metadata": {},
          "execution_count": 73
        }
      ]
    },
    {
      "cell_type": "code",
      "source": [
        "len(a)"
      ],
      "metadata": {
        "id": "W8eg-CuXUuTX",
        "outputId": "e5e0834d-81f1-4347-952c-ced21afb1e2b",
        "colab": {
          "base_uri": "https://localhost:8080/"
        }
      },
      "execution_count": 74,
      "outputs": [
        {
          "output_type": "execute_result",
          "data": {
            "text/plain": [
              "2"
            ]
          },
          "metadata": {},
          "execution_count": 74
        }
      ]
    },
    {
      "cell_type": "code",
      "source": [],
      "metadata": {
        "id": "8yojsfiNUwAl"
      },
      "execution_count": null,
      "outputs": []
    }
  ]
}