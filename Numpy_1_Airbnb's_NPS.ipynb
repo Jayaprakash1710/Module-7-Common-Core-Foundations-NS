{
  "nbformat": 4,
  "nbformat_minor": 0,
  "metadata": {
    "colab": {
      "provenance": [],
      "authorship_tag": "ABX9TyP8t+66DtUkQQvTyKieIqRD",
      "include_colab_link": true
    },
    "kernelspec": {
      "name": "python3",
      "display_name": "Python 3"
    },
    "language_info": {
      "name": "python"
    }
  },
  "cells": [
    {
      "cell_type": "markdown",
      "metadata": {
        "id": "view-in-github",
        "colab_type": "text"
      },
      "source": [
        "<a href=\"https://colab.research.google.com/github/Jayaprakash1710/Module-7-Common-Core-Foundations-NS/blob/main/Numpy_1_Airbnb's_NPS.ipynb\" target=\"_parent\"><img src=\"https://colab.research.google.com/assets/colab-badge.svg\" alt=\"Open In Colab\"/></a>"
      ]
    },
    {
      "cell_type": "markdown",
      "source": [
        "# Lecture:"
      ],
      "metadata": {
        "id": "h5OLoX6TFJHa"
      }
    },
    {
      "cell_type": "markdown",
      "source": [
        "**Business Case: Calculate NPS for NPS**\n",
        "\n",
        "NPS= %Promoters-%Detractors\n",
        "\n",
        "*   Promoters: 9-10\n",
        "*   Detractors: 1-6\n",
        "*   Passive: 7-8\n",
        "\n",
        "\n",
        "\n",
        "\n",
        "\n"
      ],
      "metadata": {
        "id": "qPl9Ju4Z2o3L"
      }
    },
    {
      "cell_type": "code",
      "execution_count": 1,
      "metadata": {
        "id": "EBT4W_VPXs7I"
      },
      "outputs": [],
      "source": [
        "import numpy as np"
      ]
    },
    {
      "cell_type": "markdown",
      "source": [
        "**Why NumPy?**\n",
        "\n",
        "Numpy supports element wise operation."
      ],
      "metadata": {
        "id": "aoXjQrT94SwE"
      }
    },
    {
      "cell_type": "code",
      "source": [
        "a=[1,2,3,4,5] #python list"
      ],
      "metadata": {
        "id": "cckasPZa3LJ-"
      },
      "execution_count": 2,
      "outputs": []
    },
    {
      "cell_type": "markdown",
      "source": [
        "I want [1,4,9,16,25] which is a**2"
      ],
      "metadata": {
        "id": "BFxkj-wp4jfK"
      }
    },
    {
      "cell_type": "code",
      "source": [
        "a**2"
      ],
      "metadata": {
        "colab": {
          "base_uri": "https://localhost:8080/",
          "height": 148
        },
        "id": "_MYPBzbs4gfb",
        "outputId": "9227127f-6bbf-4c38-95b1-bd5f4ec405ef"
      },
      "execution_count": 3,
      "outputs": [
        {
          "output_type": "error",
          "ename": "TypeError",
          "evalue": "unsupported operand type(s) for ** or pow(): 'list' and 'int'",
          "traceback": [
            "\u001b[0;31m---------------------------------------------------------------------------\u001b[0m",
            "\u001b[0;31mTypeError\u001b[0m                                 Traceback (most recent call last)",
            "\u001b[0;32m<ipython-input-3-9d14bf4ad06f>\u001b[0m in \u001b[0;36m<cell line: 0>\u001b[0;34m()\u001b[0m\n\u001b[0;32m----> 1\u001b[0;31m \u001b[0ma\u001b[0m\u001b[0;34m**\u001b[0m\u001b[0;36m2\u001b[0m\u001b[0;34m\u001b[0m\u001b[0;34m\u001b[0m\u001b[0m\n\u001b[0m",
            "\u001b[0;31mTypeError\u001b[0m: unsupported operand type(s) for ** or pow(): 'list' and 'int'"
          ]
        }
      ]
    },
    {
      "cell_type": "markdown",
      "source": [
        "Python list doesn't support element wise operation. To achive the square of all numbers we need to use for loop."
      ],
      "metadata": {
        "id": "Bnk3pI3A4uuL"
      }
    },
    {
      "cell_type": "code",
      "source": [
        "b=[i**2 for i in a]\n",
        "print(b)"
      ],
      "metadata": {
        "colab": {
          "base_uri": "https://localhost:8080/"
        },
        "id": "slkOnPQI4tCp",
        "outputId": "c4f3784d-267b-41f0-f27a-b171bd9828c7"
      },
      "execution_count": 4,
      "outputs": [
        {
          "output_type": "stream",
          "name": "stdout",
          "text": [
            "[1, 4, 9, 16, 25]\n"
          ]
        }
      ]
    },
    {
      "cell_type": "markdown",
      "source": [
        "Now let's try to do the same thing using NumPy"
      ],
      "metadata": {
        "id": "ZrVxRxIO5Ena"
      }
    },
    {
      "cell_type": "code",
      "source": [
        "c=np.array([1,2,3,4,5])\n",
        "print(c**2)"
      ],
      "metadata": {
        "colab": {
          "base_uri": "https://localhost:8080/"
        },
        "id": "955O3CQj5AW9",
        "outputId": "eb336be8-5241-4d13-8655-80f1d63ebbc6"
      },
      "execution_count": 5,
      "outputs": [
        {
          "output_type": "stream",
          "name": "stdout",
          "text": [
            "[ 1  4  9 16 25]\n"
          ]
        }
      ]
    },
    {
      "cell_type": "code",
      "source": [
        "print(type(a))\n",
        "print(type(c))"
      ],
      "metadata": {
        "colab": {
          "base_uri": "https://localhost:8080/"
        },
        "id": "9cqSfRDY5Rhr",
        "outputId": "cb76ffb1-5da5-411b-f92f-deaeb2347fc6"
      },
      "execution_count": 6,
      "outputs": [
        {
          "output_type": "stream",
          "name": "stdout",
          "text": [
            "<class 'list'>\n",
            "<class 'numpy.ndarray'>\n"
          ]
        }
      ]
    },
    {
      "cell_type": "markdown",
      "source": [
        "a is a list but c is a NumPy array. NumPy array supports element wise operations where as python lists deosn't."
      ],
      "metadata": {
        "id": "S2EOvgQh5box"
      }
    },
    {
      "cell_type": "markdown",
      "source": [
        "Few more examples:\n",
        "\n",
        "adding 2 arrays"
      ],
      "metadata": {
        "id": "ctiTi0id5qiR"
      }
    },
    {
      "cell_type": "code",
      "source": [
        "a=[1,2,3,4,5,6]\n",
        "b=[6,7,8,9,10]\n",
        "print(a+b)"
      ],
      "metadata": {
        "colab": {
          "base_uri": "https://localhost:8080/"
        },
        "id": "jYKhmF9I5abY",
        "outputId": "971aea1d-7b63-48f0-d86d-af4bc82d604d"
      },
      "execution_count": 7,
      "outputs": [
        {
          "output_type": "stream",
          "name": "stdout",
          "text": [
            "[1, 2, 3, 4, 5, 6, 6, 7, 8, 9, 10]\n"
          ]
        }
      ]
    },
    {
      "cell_type": "code",
      "source": [
        "c=np.array([1,2,3,4,5])\n",
        "d=np.array([6,7,8,9,10])\n",
        "print(c+d)"
      ],
      "metadata": {
        "colab": {
          "base_uri": "https://localhost:8080/"
        },
        "id": "lmeu8P3650Lq",
        "outputId": "91c8a0b1-4106-4450-f6c4-ed4c74f9fb75"
      },
      "execution_count": 8,
      "outputs": [
        {
          "output_type": "stream",
          "name": "stdout",
          "text": [
            "[ 7  9 11 13 15]\n"
          ]
        }
      ]
    },
    {
      "cell_type": "markdown",
      "source": [
        "List comprehension and loops are not needed here for element wise operation"
      ],
      "metadata": {
        "id": "yHfRm4jd6WSy"
      }
    },
    {
      "cell_type": "markdown",
      "source": [
        "Timing difference:"
      ],
      "metadata": {
        "id": "PCKz-2vd7B9q"
      }
    },
    {
      "cell_type": "code",
      "source": [
        "a=range(100000)\n",
        "print(a)"
      ],
      "metadata": {
        "colab": {
          "base_uri": "https://localhost:8080/"
        },
        "id": "dx8LVX7A59SJ",
        "outputId": "e33742fc-caa1-4a85-ec32-f64b00f04ce1"
      },
      "execution_count": 9,
      "outputs": [
        {
          "output_type": "stream",
          "name": "stdout",
          "text": [
            "range(0, 100000)\n"
          ]
        }
      ]
    },
    {
      "cell_type": "code",
      "source": [
        "%timeit [i**2 for i in a]"
      ],
      "metadata": {
        "colab": {
          "base_uri": "https://localhost:8080/"
        },
        "id": "vjXkKjMi7Ii6",
        "outputId": "f00b5927-556a-4857-f183-0f8402e1a656"
      },
      "execution_count": 10,
      "outputs": [
        {
          "output_type": "stream",
          "name": "stdout",
          "text": [
            "3.49 ms ± 63 µs per loop (mean ± std. dev. of 7 runs, 100 loops each)\n"
          ]
        }
      ]
    },
    {
      "cell_type": "code",
      "source": [
        "b=np.arange(100000)\n",
        "print(b)"
      ],
      "metadata": {
        "colab": {
          "base_uri": "https://localhost:8080/"
        },
        "id": "XxtCkKk57Pwo",
        "outputId": "dacb76d4-b2a9-4b5d-d4a1-acaa243d9b95"
      },
      "execution_count": 11,
      "outputs": [
        {
          "output_type": "stream",
          "name": "stdout",
          "text": [
            "[    0     1     2 ... 99997 99998 99999]\n"
          ]
        }
      ]
    },
    {
      "cell_type": "code",
      "source": [
        "%timeit b**2"
      ],
      "metadata": {
        "colab": {
          "base_uri": "https://localhost:8080/"
        },
        "id": "DyELXjJE7VM4",
        "outputId": "d69ea8e6-d688-4767-c654-72d29bc951c6"
      },
      "execution_count": 12,
      "outputs": [
        {
          "output_type": "stream",
          "name": "stdout",
          "text": [
            "29 µs ± 646 ns per loop (mean ± std. dev. of 7 runs, 10000 loops each)\n"
          ]
        }
      ]
    },
    {
      "cell_type": "markdown",
      "source": [
        "NumPy did element wise operation faster than List\n",
        "\n",
        "List-millisecond\n",
        "\n",
        "NumPy array-microsecond"
      ],
      "metadata": {
        "id": "pH_VqDm87dWh"
      }
    },
    {
      "cell_type": "markdown",
      "source": [
        "**Homogenetiy and Heterogenity:**"
      ],
      "metadata": {
        "id": "zoC3QRGk8O9Z"
      }
    },
    {
      "cell_type": "code",
      "source": [
        "l=[1,2,3.4,'Jayapraksh',True]\n",
        "print(l)"
      ],
      "metadata": {
        "colab": {
          "base_uri": "https://localhost:8080/"
        },
        "id": "GSDr0anb8Kiy",
        "outputId": "a842ed87-767f-4719-8cf3-ab380ef18680"
      },
      "execution_count": 13,
      "outputs": [
        {
          "output_type": "stream",
          "name": "stdout",
          "text": [
            "[1, 2, 3.4, 'Jayapraksh', True]\n"
          ]
        }
      ]
    },
    {
      "cell_type": "code",
      "source": [
        "z=np.array([1,2,3.4,'Jayaprakash',True])\n",
        "print(z)"
      ],
      "metadata": {
        "colab": {
          "base_uri": "https://localhost:8080/"
        },
        "id": "2qYCjhea8bIj",
        "outputId": "fd9aec70-2343-4bb1-de5d-a5b259957974"
      },
      "execution_count": 14,
      "outputs": [
        {
          "output_type": "stream",
          "name": "stdout",
          "text": [
            "['1' '2' '3.4' 'Jayaprakash' 'True']\n"
          ]
        }
      ]
    },
    {
      "cell_type": "markdown",
      "source": [
        "Everything got converted to string in numpy array. Numpy array is homogenous, it can't contain data with multiple datatype."
      ],
      "metadata": {
        "id": "YHb2-jMt8qPF"
      }
    },
    {
      "cell_type": "markdown",
      "source": [
        "**Why NumPy is fast?**\n",
        "\n",
        "\n",
        "\n",
        "*   NumPy is built using the language **C**\n",
        "*   Data type of all the elements are same (stores only one data type)\n",
        "\n"
      ],
      "metadata": {
        "id": "xGdT7lgi7yLc"
      }
    },
    {
      "cell_type": "code",
      "source": [
        "a=np.array([1,2,3,4,5,6])\n",
        "print(a.dtype) # to get the data type of the elements stored in a\n",
        "print(type(a)) # to get the data type of the variable a"
      ],
      "metadata": {
        "colab": {
          "base_uri": "https://localhost:8080/"
        },
        "id": "Xu2jPSB_7Zt4",
        "outputId": "60f5dd73-770d-400f-e264-34efd57d1e47"
      },
      "execution_count": 18,
      "outputs": [
        {
          "output_type": "stream",
          "name": "stdout",
          "text": [
            "int64\n",
            "<class 'numpy.ndarray'>\n"
          ]
        }
      ]
    },
    {
      "cell_type": "code",
      "source": [
        "b=np.array([2.0,3.0,4.0])\n",
        "print(b.dtype)"
      ],
      "metadata": {
        "colab": {
          "base_uri": "https://localhost:8080/"
        },
        "id": "9gqjkWnR-acJ",
        "outputId": "0d732c4d-7f93-4aef-c250-bd8f65bca96e"
      },
      "execution_count": 20,
      "outputs": [
        {
          "output_type": "stream",
          "name": "stdout",
          "text": [
            "float64\n"
          ]
        }
      ]
    },
    {
      "cell_type": "code",
      "source": [
        "c=np.array(['Bala','Sala','Wala'])\n",
        "print(c)\n",
        "print(c.dtype)"
      ],
      "metadata": {
        "colab": {
          "base_uri": "https://localhost:8080/"
        },
        "id": "KZ-li3LU-4g3",
        "outputId": "6f42f9f2-2d4c-43b7-c500-88383f566248"
      },
      "execution_count": 29,
      "outputs": [
        {
          "output_type": "stream",
          "name": "stdout",
          "text": [
            "['Bala' 'Sala' 'Wala']\n",
            "<U4\n"
          ]
        }
      ]
    },
    {
      "cell_type": "markdown",
      "source": [
        "Order: bool<int<float<string"
      ],
      "metadata": {
        "id": "CGp3UcAnAyty"
      }
    },
    {
      "cell_type": "markdown",
      "source": [
        "**Setting datatype:**"
      ],
      "metadata": {
        "id": "yQGFHvUtBoZZ"
      }
    },
    {
      "cell_type": "code",
      "source": [
        "d=np.array([1,2,3,4,5],dtype='float')\n",
        "print(d)\n",
        "print(d.dtype)"
      ],
      "metadata": {
        "colab": {
          "base_uri": "https://localhost:8080/"
        },
        "id": "2rNNWnMa_W4o",
        "outputId": "44aad990-0e8b-4d13-8335-2083d23fd90d"
      },
      "execution_count": 31,
      "outputs": [
        {
          "output_type": "stream",
          "name": "stdout",
          "text": [
            "[1. 2. 3. 4. 5.]\n",
            "float64\n"
          ]
        }
      ]
    },
    {
      "cell_type": "code",
      "source": [
        "e=np.array([1,2,3,4,5],dtype='str')\n",
        "print(e)\n",
        "print(e.dtype)"
      ],
      "metadata": {
        "colab": {
          "base_uri": "https://localhost:8080/"
        },
        "id": "q31o2hWo_jIW",
        "outputId": "0f60f373-74e3-4840-dfe2-75c8df91958b"
      },
      "execution_count": 32,
      "outputs": [
        {
          "output_type": "stream",
          "name": "stdout",
          "text": [
            "['1' '2' '3' '4' '5']\n",
            "<U1\n"
          ]
        }
      ]
    },
    {
      "cell_type": "code",
      "source": [
        "f=np.array(['JP','PP'],dtype='int')\n",
        "print(f)\n",
        "print(f.dtype)"
      ],
      "metadata": {
        "colab": {
          "base_uri": "https://localhost:8080/",
          "height": 185
        },
        "id": "KWMdMrG-_vMW",
        "outputId": "69b9336e-74c7-486e-db3d-51da75288a81"
      },
      "execution_count": 33,
      "outputs": [
        {
          "output_type": "error",
          "ename": "ValueError",
          "evalue": "invalid literal for int() with base 10: 'JP'",
          "traceback": [
            "\u001b[0;31m---------------------------------------------------------------------------\u001b[0m",
            "\u001b[0;31mValueError\u001b[0m                                Traceback (most recent call last)",
            "\u001b[0;32m<ipython-input-33-7cedd512ea64>\u001b[0m in \u001b[0;36m<cell line: 0>\u001b[0;34m()\u001b[0m\n\u001b[0;32m----> 1\u001b[0;31m \u001b[0mf\u001b[0m\u001b[0;34m=\u001b[0m\u001b[0mnp\u001b[0m\u001b[0;34m.\u001b[0m\u001b[0marray\u001b[0m\u001b[0;34m(\u001b[0m\u001b[0;34m[\u001b[0m\u001b[0;34m'JP'\u001b[0m\u001b[0;34m,\u001b[0m\u001b[0;34m'PP'\u001b[0m\u001b[0;34m]\u001b[0m\u001b[0;34m,\u001b[0m\u001b[0mdtype\u001b[0m\u001b[0;34m=\u001b[0m\u001b[0;34m'int'\u001b[0m\u001b[0;34m)\u001b[0m\u001b[0;34m\u001b[0m\u001b[0;34m\u001b[0m\u001b[0m\n\u001b[0m\u001b[1;32m      2\u001b[0m \u001b[0mprint\u001b[0m\u001b[0;34m(\u001b[0m\u001b[0mf\u001b[0m\u001b[0;34m)\u001b[0m\u001b[0;34m\u001b[0m\u001b[0;34m\u001b[0m\u001b[0m\n\u001b[1;32m      3\u001b[0m \u001b[0mprint\u001b[0m\u001b[0;34m(\u001b[0m\u001b[0mf\u001b[0m\u001b[0;34m.\u001b[0m\u001b[0mdtype\u001b[0m\u001b[0;34m)\u001b[0m\u001b[0;34m\u001b[0m\u001b[0;34m\u001b[0m\u001b[0m\n",
            "\u001b[0;31mValueError\u001b[0m: invalid literal for int() with base 10: 'JP'"
          ]
        }
      ]
    },
    {
      "cell_type": "markdown",
      "source": [
        "**range and arange:**"
      ],
      "metadata": {
        "id": "KvHfDz_hDbZy"
      }
    },
    {
      "cell_type": "code",
      "source": [
        "range(100)"
      ],
      "metadata": {
        "colab": {
          "base_uri": "https://localhost:8080/"
        },
        "id": "G_e-Kw-8CpY2",
        "outputId": "4cbbf821-82d5-4fd1-eece-fc649f6a1bb1"
      },
      "execution_count": 34,
      "outputs": [
        {
          "output_type": "execute_result",
          "data": {
            "text/plain": [
              "range(0, 100)"
            ]
          },
          "metadata": {},
          "execution_count": 34
        }
      ]
    },
    {
      "cell_type": "code",
      "source": [
        "range(1,100)"
      ],
      "metadata": {
        "colab": {
          "base_uri": "https://localhost:8080/"
        },
        "id": "c__2cVu3DhaW",
        "outputId": "239fe1b9-fd2b-46f3-c08d-2be85ce9f3fa"
      },
      "execution_count": 35,
      "outputs": [
        {
          "output_type": "execute_result",
          "data": {
            "text/plain": [
              "range(1, 100)"
            ]
          },
          "metadata": {},
          "execution_count": 35
        }
      ]
    },
    {
      "cell_type": "code",
      "source": [
        "range(1,100,2)"
      ],
      "metadata": {
        "colab": {
          "base_uri": "https://localhost:8080/"
        },
        "id": "DS_35HXSDjum",
        "outputId": "9bbec40b-d993-491b-87b4-8addd88c0c94"
      },
      "execution_count": 36,
      "outputs": [
        {
          "output_type": "execute_result",
          "data": {
            "text/plain": [
              "range(1, 100, 2)"
            ]
          },
          "metadata": {},
          "execution_count": 36
        }
      ]
    },
    {
      "cell_type": "code",
      "source": [
        "np.arange(100)"
      ],
      "metadata": {
        "colab": {
          "base_uri": "https://localhost:8080/"
        },
        "id": "Y7tWzTD0DnAl",
        "outputId": "d85c61ce-3f02-4c23-dd64-db414e7c73f2"
      },
      "execution_count": 38,
      "outputs": [
        {
          "output_type": "execute_result",
          "data": {
            "text/plain": [
              "array([ 0,  1,  2,  3,  4,  5,  6,  7,  8,  9, 10, 11, 12, 13, 14, 15, 16,\n",
              "       17, 18, 19, 20, 21, 22, 23, 24, 25, 26, 27, 28, 29, 30, 31, 32, 33,\n",
              "       34, 35, 36, 37, 38, 39, 40, 41, 42, 43, 44, 45, 46, 47, 48, 49, 50,\n",
              "       51, 52, 53, 54, 55, 56, 57, 58, 59, 60, 61, 62, 63, 64, 65, 66, 67,\n",
              "       68, 69, 70, 71, 72, 73, 74, 75, 76, 77, 78, 79, 80, 81, 82, 83, 84,\n",
              "       85, 86, 87, 88, 89, 90, 91, 92, 93, 94, 95, 96, 97, 98, 99])"
            ]
          },
          "metadata": {},
          "execution_count": 38
        }
      ]
    },
    {
      "cell_type": "code",
      "source": [
        "np.arange(1,100)"
      ],
      "metadata": {
        "colab": {
          "base_uri": "https://localhost:8080/"
        },
        "id": "z68u12bWDqPG",
        "outputId": "1d2b6f53-c8ed-43fe-aeb1-6f0826e43809"
      },
      "execution_count": 39,
      "outputs": [
        {
          "output_type": "execute_result",
          "data": {
            "text/plain": [
              "array([ 1,  2,  3,  4,  5,  6,  7,  8,  9, 10, 11, 12, 13, 14, 15, 16, 17,\n",
              "       18, 19, 20, 21, 22, 23, 24, 25, 26, 27, 28, 29, 30, 31, 32, 33, 34,\n",
              "       35, 36, 37, 38, 39, 40, 41, 42, 43, 44, 45, 46, 47, 48, 49, 50, 51,\n",
              "       52, 53, 54, 55, 56, 57, 58, 59, 60, 61, 62, 63, 64, 65, 66, 67, 68,\n",
              "       69, 70, 71, 72, 73, 74, 75, 76, 77, 78, 79, 80, 81, 82, 83, 84, 85,\n",
              "       86, 87, 88, 89, 90, 91, 92, 93, 94, 95, 96, 97, 98, 99])"
            ]
          },
          "metadata": {},
          "execution_count": 39
        }
      ]
    },
    {
      "cell_type": "code",
      "source": [
        "np.arange(1,100,3)"
      ],
      "metadata": {
        "colab": {
          "base_uri": "https://localhost:8080/"
        },
        "id": "QthSQ77dDvGG",
        "outputId": "30b1c961-9994-4265-dea3-58f779d9ba1d"
      },
      "execution_count": 40,
      "outputs": [
        {
          "output_type": "execute_result",
          "data": {
            "text/plain": [
              "array([ 1,  4,  7, 10, 13, 16, 19, 22, 25, 28, 31, 34, 37, 40, 43, 46, 49,\n",
              "       52, 55, 58, 61, 64, 67, 70, 73, 76, 79, 82, 85, 88, 91, 94, 97])"
            ]
          },
          "metadata": {},
          "execution_count": 40
        }
      ]
    },
    {
      "cell_type": "code",
      "source": [
        "np.arange(1,10,0.3)"
      ],
      "metadata": {
        "colab": {
          "base_uri": "https://localhost:8080/"
        },
        "id": "lCwYAPPXDyv2",
        "outputId": "5c71a74c-3019-4035-eeec-cff77d33e4cb"
      },
      "execution_count": 41,
      "outputs": [
        {
          "output_type": "execute_result",
          "data": {
            "text/plain": [
              "array([1. , 1.3, 1.6, 1.9, 2.2, 2.5, 2.8, 3.1, 3.4, 3.7, 4. , 4.3, 4.6,\n",
              "       4.9, 5.2, 5.5, 5.8, 6.1, 6.4, 6.7, 7. , 7.3, 7.6, 7.9, 8.2, 8.5,\n",
              "       8.8, 9.1, 9.4, 9.7])"
            ]
          },
          "metadata": {},
          "execution_count": 41
        }
      ]
    },
    {
      "cell_type": "code",
      "source": [
        "arange(1,10,0.5)"
      ],
      "metadata": {
        "colab": {
          "base_uri": "https://localhost:8080/",
          "height": 148
        },
        "id": "g6c8JVQIEcV0",
        "outputId": "ea95f568-b4f8-4f64-c112-9ac40456a568"
      },
      "execution_count": 43,
      "outputs": [
        {
          "output_type": "error",
          "ename": "NameError",
          "evalue": "name 'arange' is not defined",
          "traceback": [
            "\u001b[0;31m---------------------------------------------------------------------------\u001b[0m",
            "\u001b[0;31mNameError\u001b[0m                                 Traceback (most recent call last)",
            "\u001b[0;32m<ipython-input-43-66de96400275>\u001b[0m in \u001b[0;36m<cell line: 0>\u001b[0;34m()\u001b[0m\n\u001b[0;32m----> 1\u001b[0;31m \u001b[0marange\u001b[0m\u001b[0;34m(\u001b[0m\u001b[0;36m1\u001b[0m\u001b[0;34m,\u001b[0m\u001b[0;36m10\u001b[0m\u001b[0;34m,\u001b[0m\u001b[0;36m0.5\u001b[0m\u001b[0;34m)\u001b[0m\u001b[0;34m\u001b[0m\u001b[0;34m\u001b[0m\u001b[0m\n\u001b[0m",
            "\u001b[0;31mNameError\u001b[0m: name 'arange' is not defined"
          ]
        }
      ]
    },
    {
      "cell_type": "code",
      "source": [
        "np.arange(1,10,0.5)"
      ],
      "metadata": {
        "colab": {
          "base_uri": "https://localhost:8080/"
        },
        "id": "TsGoqrLtD2SW",
        "outputId": "0538207a-d5d5-42c0-8eba-932d33b76ebb"
      },
      "execution_count": 42,
      "outputs": [
        {
          "output_type": "execute_result",
          "data": {
            "text/plain": [
              "array([1. , 1.5, 2. , 2.5, 3. , 3.5, 4. , 4.5, 5. , 5.5, 6. , 6.5, 7. ,\n",
              "       7.5, 8. , 8.5, 9. , 9.5])"
            ]
          },
          "metadata": {},
          "execution_count": 42
        }
      ]
    },
    {
      "cell_type": "markdown",
      "source": [
        "arange supports step size in float whereas range doesn't"
      ],
      "metadata": {
        "id": "0J-g8rlUD7Rw"
      }
    },
    {
      "cell_type": "markdown",
      "source": [
        "# Assignments:"
      ],
      "metadata": {
        "id": "BRdi45-JFP3n"
      }
    },
    {
      "cell_type": "markdown",
      "source": [
        "## Q-1:\n",
        "Which of the following option(s) can add 1 to each element of array A?\n",
        "\n",
        "A = np.array([2, 0, 1, 9, 1, 1, 1, 0, 3, 5])\n",
        "\n",
        "\n",
        "\n",
        "1.   A+1\n",
        "2.   list(map(lambda x:x+1,A))\n",
        "\n",
        "\n",
        "3.   [x+1 for x in A]\n",
        "4.   A+\"1\n",
        "\n",
        "\n",
        "\n"
      ],
      "metadata": {
        "id": "G6OcrYYfFXlf"
      }
    },
    {
      "cell_type": "code",
      "source": [
        "A = np.array([2, 0, 1, 9, 1, 1, 1, 0, 3, 5])"
      ],
      "metadata": {
        "id": "8t0s57E7D6Kl"
      },
      "execution_count": 44,
      "outputs": []
    },
    {
      "cell_type": "code",
      "source": [
        "print(A+1)"
      ],
      "metadata": {
        "colab": {
          "base_uri": "https://localhost:8080/"
        },
        "id": "5bVDm2_fFxvm",
        "outputId": "2fc14652-2d5d-4005-da2b-b189fe42d6fa"
      },
      "execution_count": 45,
      "outputs": [
        {
          "output_type": "stream",
          "name": "stdout",
          "text": [
            "[ 3  1  2 10  2  2  2  1  4  6]\n"
          ]
        }
      ]
    },
    {
      "cell_type": "code",
      "source": [
        "b=list(map(lambda x:x+1,A))\n",
        "print(b)"
      ],
      "metadata": {
        "colab": {
          "base_uri": "https://localhost:8080/"
        },
        "id": "inT4QVkuF0T1",
        "outputId": "2df7e5a1-f5a4-4573-a989-bf98f8f2fca6"
      },
      "execution_count": 46,
      "outputs": [
        {
          "output_type": "stream",
          "name": "stdout",
          "text": [
            "[3, 1, 2, 10, 2, 2, 2, 1, 4, 6]\n"
          ]
        }
      ]
    },
    {
      "cell_type": "code",
      "source": [
        "c=[x+1 for x in A]\n",
        "print(c)"
      ],
      "metadata": {
        "colab": {
          "base_uri": "https://localhost:8080/"
        },
        "id": "xeh9G-npF6Fl",
        "outputId": "1190a81a-53ab-4972-82ce-b75fe4b3a260"
      },
      "execution_count": 47,
      "outputs": [
        {
          "output_type": "stream",
          "name": "stdout",
          "text": [
            "[3, 1, 2, 10, 2, 2, 2, 1, 4, 6]\n"
          ]
        }
      ]
    },
    {
      "cell_type": "code",
      "source": [
        "print(A+\"1\")"
      ],
      "metadata": {
        "colab": {
          "base_uri": "https://localhost:8080/",
          "height": 148
        },
        "id": "UTBFar61GBLF",
        "outputId": "24e4f580-6db9-4c3e-94a8-7a5c174a666e"
      },
      "execution_count": 48,
      "outputs": [
        {
          "output_type": "error",
          "ename": "UFuncTypeError",
          "evalue": "ufunc 'add' did not contain a loop with signature matching types (dtype('int64'), dtype('<U1')) -> None",
          "traceback": [
            "\u001b[0;31m---------------------------------------------------------------------------\u001b[0m",
            "\u001b[0;31mUFuncTypeError\u001b[0m                            Traceback (most recent call last)",
            "\u001b[0;32m<ipython-input-48-9390d9068fbb>\u001b[0m in \u001b[0;36m<cell line: 0>\u001b[0;34m()\u001b[0m\n\u001b[0;32m----> 1\u001b[0;31m \u001b[0mprint\u001b[0m\u001b[0;34m(\u001b[0m\u001b[0mA\u001b[0m\u001b[0;34m+\u001b[0m\u001b[0;34m\"1\"\u001b[0m\u001b[0;34m)\u001b[0m\u001b[0;34m\u001b[0m\u001b[0;34m\u001b[0m\u001b[0m\n\u001b[0m",
            "\u001b[0;31mUFuncTypeError\u001b[0m: ufunc 'add' did not contain a loop with signature matching types (dtype('int64'), dtype('<U1')) -> None"
          ]
        }
      ]
    },
    {
      "cell_type": "code",
      "source": [],
      "metadata": {
        "id": "_yArjjnnGEZl"
      },
      "execution_count": null,
      "outputs": []
    }
  ]
}